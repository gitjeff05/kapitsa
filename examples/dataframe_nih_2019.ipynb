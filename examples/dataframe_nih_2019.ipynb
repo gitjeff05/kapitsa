{
 "cells": [
  {
   "cell_type": "markdown",
   "metadata": {},
   "source": [
    "# Overview\n",
    "\n",
    "This notebook goes through the pandas API using some practical examples. It is by no means exhaustive.\n",
    "\n",
    "# Motivation\n",
    "\n",
    "Searching old code and online documentation for how previous problems were solved is time consuming. Keeping a living document and tagging cells with keywords can help bring about solutions faster."
   ]
  },
  {
   "cell_type": "code",
   "execution_count": 44,
   "metadata": {},
   "outputs": [
    {
     "data": {
      "text/plain": [
       "'en_US.UTF8'"
      ]
     },
     "execution_count": 44,
     "metadata": {},
     "output_type": "execute_result"
    }
   ],
   "source": [
    "%matplotlib inline\n",
    "import pandas as pd\n",
    "import numpy as np\n",
    "import matplotlib\n",
    "\n",
    "import locale\n",
    "locale.setlocale(locale.LC_ALL, 'en_US.UTF8')"
   ]
  },
  {
   "cell_type": "markdown",
   "metadata": {},
   "source": [
    "# [Raise on chained assignment](https://pandas.pydata.org/pandas-docs/stable/user_guide/indexing.html#indexing-view-versus-copy)"
   ]
  },
  {
   "cell_type": "code",
   "execution_count": 45,
   "metadata": {
    "tags": [
     "raise",
     "chained",
     "mutate"
    ]
   },
   "outputs": [],
   "source": [
    "# notebooks should begin with this so we do not accidentally mutate the original dataframe\n",
    "pd.set_option('mode.chained_assignment','raise')"
   ]
  },
  {
   "cell_type": "markdown",
   "metadata": {},
   "source": [
    "# First, lets read in the data with `read_csv`:\n",
    "\n",
    "NIH data for 2019 was imported from [exporter.nih.gov](https://exporter.nih.gov/ExPORTER_Catalog.aspx?sid=5&index=0). An [explanation of the fields](https://exporter.nih.gov/about.aspx) is helpful for analysis. We took a random sample of 15k rows so this demo could be lightweight.\n",
    "\n",
    "- Explicitly pass `header=0` to be able to replace existing column names.\n",
    "- pass `dtype={ 'ORG_ZIPCODE': 'str'}` to prevent this column from being inferred as an int"
   ]
  },
  {
   "cell_type": "code",
   "execution_count": 46,
   "metadata": {
    "tags": [
     "read_csv",
     "csv",
     "dates",
     "import",
     "dataframe",
     "pandas"
    ]
   },
   "outputs": [],
   "source": [
    "column_names=[\"ID\",\"ACTIVITY\",\"IC\",\"ORG_CITY\",\"ORG_COUNTRY\",\"ORG_DEPT\",\"ORG_NAME\",\"ORG_STATE\",\"ORG_ZIPCODE\",\"PROJECT_START\",\"PROJECT_END\",\"PROJECT_TITLE\",\"DIRECT_COST_AMT\",\"TOTAL_COST\"]\n",
    "df = pd.read_csv('./nih_2019.gzip', header=0, names=column_names, parse_dates=[\"PROJECT_START\",\"PROJECT_END\"], compression='gzip', dtype={ 'ORG_ZIPCODE': 'str'}, encoding=\"ISO-8859-1\")"
   ]
  },
  {
   "cell_type": "code",
   "execution_count": 47,
   "metadata": {},
   "outputs": [
    {
     "data": {
      "text/html": [
       "<div>\n",
       "<style scoped>\n",
       "    .dataframe tbody tr th:only-of-type {\n",
       "        vertical-align: middle;\n",
       "    }\n",
       "\n",
       "    .dataframe tbody tr th {\n",
       "        vertical-align: top;\n",
       "    }\n",
       "\n",
       "    .dataframe thead th {\n",
       "        text-align: right;\n",
       "    }\n",
       "</style>\n",
       "<table border=\"1\" class=\"dataframe\">\n",
       "  <thead>\n",
       "    <tr style=\"text-align: right;\">\n",
       "      <th></th>\n",
       "      <th>ID</th>\n",
       "      <th>ACTIVITY</th>\n",
       "      <th>IC</th>\n",
       "      <th>ORG_CITY</th>\n",
       "      <th>ORG_COUNTRY</th>\n",
       "      <th>ORG_DEPT</th>\n",
       "      <th>ORG_NAME</th>\n",
       "      <th>ORG_STATE</th>\n",
       "      <th>ORG_ZIPCODE</th>\n",
       "      <th>PROJECT_START</th>\n",
       "      <th>PROJECT_END</th>\n",
       "      <th>PROJECT_TITLE</th>\n",
       "      <th>DIRECT_COST_AMT</th>\n",
       "      <th>TOTAL_COST</th>\n",
       "    </tr>\n",
       "  </thead>\n",
       "  <tbody>\n",
       "    <tr>\n",
       "      <th>0</th>\n",
       "      <td>9757776</td>\n",
       "      <td>K24</td>\n",
       "      <td>DK</td>\n",
       "      <td>BIRMINGHAM</td>\n",
       "      <td>UNITED STATES</td>\n",
       "      <td>INTERNAL MEDICINE/MEDICINE</td>\n",
       "      <td>UNIVERSITY OF ALABAMA AT BIRMINGHAM</td>\n",
       "      <td>AL</td>\n",
       "      <td>352940001</td>\n",
       "      <td>2018-08-07</td>\n",
       "      <td>2023-07-31</td>\n",
       "      <td>Mentored patient-oriented research in disparit...</td>\n",
       "      <td>149851.0</td>\n",
       "      <td>161839.0</td>\n",
       "    </tr>\n",
       "    <tr>\n",
       "      <th>1</th>\n",
       "      <td>9741741</td>\n",
       "      <td>U54</td>\n",
       "      <td>HG</td>\n",
       "      <td>REDEMPTION CITY</td>\n",
       "      <td>NIGERIA</td>\n",
       "      <td>NaN</td>\n",
       "      <td>REDEEMER'S UNIVERSITY</td>\n",
       "      <td>NaN</td>\n",
       "      <td>20001</td>\n",
       "      <td>NaT</td>\n",
       "      <td>NaT</td>\n",
       "      <td>Education and Outreach Core</td>\n",
       "      <td>105350.0</td>\n",
       "      <td>NaN</td>\n",
       "    </tr>\n",
       "    <tr>\n",
       "      <th>2</th>\n",
       "      <td>9783793</td>\n",
       "      <td>P30</td>\n",
       "      <td>DK</td>\n",
       "      <td>BRONX</td>\n",
       "      <td>UNITED STATES</td>\n",
       "      <td>NaN</td>\n",
       "      <td>ALBERT EINSTEIN COLLEGE OF MEDICINE</td>\n",
       "      <td>NY</td>\n",
       "      <td>104611900</td>\n",
       "      <td>NaT</td>\n",
       "      <td>NaT</td>\n",
       "      <td>New York Regional Center for Diabetes Translat...</td>\n",
       "      <td>55264.0</td>\n",
       "      <td>NaN</td>\n",
       "    </tr>\n",
       "    <tr>\n",
       "      <th>3</th>\n",
       "      <td>9808153</td>\n",
       "      <td>R21</td>\n",
       "      <td>AG</td>\n",
       "      <td>PISCATAWAY</td>\n",
       "      <td>UNITED STATES</td>\n",
       "      <td>NONE</td>\n",
       "      <td>RBHS-ROBERT WOOD JOHNSON MEDICAL SCHOOL</td>\n",
       "      <td>NJ</td>\n",
       "      <td>88548021</td>\n",
       "      <td>2019-08-15</td>\n",
       "      <td>2021-04-30</td>\n",
       "      <td>Evaluation of the lysosomal protease tripeptid...</td>\n",
       "      <td>125000.0</td>\n",
       "      <td>198750.0</td>\n",
       "    </tr>\n",
       "    <tr>\n",
       "      <th>4</th>\n",
       "      <td>9816755</td>\n",
       "      <td>R01</td>\n",
       "      <td>AI</td>\n",
       "      <td>MEMPHIS</td>\n",
       "      <td>UNITED STATES</td>\n",
       "      <td>NaN</td>\n",
       "      <td>ST. JUDE CHILDREN'S RESEARCH HOSPITAL</td>\n",
       "      <td>TN</td>\n",
       "      <td>381053678</td>\n",
       "      <td>1997-05-01</td>\n",
       "      <td>2024-05-31</td>\n",
       "      <td>Non-canonical functions of autophagy proteins</td>\n",
       "      <td>250000.0</td>\n",
       "      <td>448750.0</td>\n",
       "    </tr>\n",
       "  </tbody>\n",
       "</table>\n",
       "</div>"
      ],
      "text/plain": [
       "        ID ACTIVITY  IC         ORG_CITY    ORG_COUNTRY  \\\n",
       "0  9757776      K24  DK       BIRMINGHAM  UNITED STATES   \n",
       "1  9741741      U54  HG  REDEMPTION CITY        NIGERIA   \n",
       "2  9783793      P30  DK            BRONX  UNITED STATES   \n",
       "3  9808153      R21  AG       PISCATAWAY  UNITED STATES   \n",
       "4  9816755      R01  AI          MEMPHIS  UNITED STATES   \n",
       "\n",
       "                     ORG_DEPT                                 ORG_NAME  \\\n",
       "0  INTERNAL MEDICINE/MEDICINE      UNIVERSITY OF ALABAMA AT BIRMINGHAM   \n",
       "1                         NaN                    REDEEMER'S UNIVERSITY   \n",
       "2                         NaN      ALBERT EINSTEIN COLLEGE OF MEDICINE   \n",
       "3                        NONE  RBHS-ROBERT WOOD JOHNSON MEDICAL SCHOOL   \n",
       "4                         NaN    ST. JUDE CHILDREN'S RESEARCH HOSPITAL   \n",
       "\n",
       "  ORG_STATE ORG_ZIPCODE PROJECT_START PROJECT_END  \\\n",
       "0        AL   352940001    2018-08-07  2023-07-31   \n",
       "1       NaN       20001           NaT         NaT   \n",
       "2        NY   104611900           NaT         NaT   \n",
       "3        NJ    88548021    2019-08-15  2021-04-30   \n",
       "4        TN   381053678    1997-05-01  2024-05-31   \n",
       "\n",
       "                                       PROJECT_TITLE  DIRECT_COST_AMT  \\\n",
       "0  Mentored patient-oriented research in disparit...         149851.0   \n",
       "1                        Education and Outreach Core         105350.0   \n",
       "2  New York Regional Center for Diabetes Translat...          55264.0   \n",
       "3  Evaluation of the lysosomal protease tripeptid...         125000.0   \n",
       "4      Non-canonical functions of autophagy proteins         250000.0   \n",
       "\n",
       "   TOTAL_COST  \n",
       "0    161839.0  \n",
       "1         NaN  \n",
       "2         NaN  \n",
       "3    198750.0  \n",
       "4    448750.0  "
      ]
     },
     "execution_count": 47,
     "metadata": {},
     "output_type": "execute_result"
    }
   ],
   "source": [
    "df.head()"
   ]
  },
  {
   "cell_type": "markdown",
   "metadata": {},
   "source": [
    "# Lets say we only want to examine US awards.\n",
    "\n",
    "Always use **`copy()`** whenever you assign a **variable to a slice** of your dataframe **when that slice could be used for anything other than just reading**. This way we will avoid any embarrassing [warnings/exceptions regarding setting view on copy](https://pandas.pydata.org/pandas-docs/stable/user_guide/indexing.html#returning-a-view-versus-a-copy). "
   ]
  },
  {
   "cell_type": "code",
   "execution_count": 48,
   "metadata": {
    "tags": [
     "copy",
     "loc",
     "pandas",
     "boolean"
    ]
   },
   "outputs": [],
   "source": [
    "# Always use `copy()` whenever you assign a variable to a slice of your dataframe when that slice could be used for anything other than just reading.\n",
    "us = df.loc[df['ORG_COUNTRY'] == 'UNITED STATES'].copy()"
   ]
  },
  {
   "cell_type": "markdown",
   "metadata": {},
   "source": [
    "# Now those zip codes are going to be used later to lookup latitude/longitude. Make sure they contain only digits"
   ]
  },
  {
   "cell_type": "code",
   "execution_count": 49,
   "metadata": {
    "tags": [
     "pandas",
     "str",
     "contains",
     "regex"
    ]
   },
   "outputs": [],
   "source": [
    "# Find rows that contain any non-digit in column\n",
    "not_okay_zips = us.loc[us['ORG_ZIPCODE'].str.contains('\\D', regex=True), ['ID', 'ORG_CITY', 'ORG_NAME', 'ORG_STATE', 'ORG_ZIPCODE', 'TOTAL_COST']]"
   ]
  },
  {
   "cell_type": "code",
   "execution_count": 50,
   "metadata": {
    "tags": [
     "items",
     "iteration",
     "series"
    ]
   },
   "outputs": [],
   "source": [
    "def highlight_columns(val, match_strings_list):\n",
    "    v = 'background-color: %s; font-weight: %s;' % ('#ff677d', 'bold')\n",
    "    t = 'font-weight: normal'\n",
    "    if (val.name in match_strings_list):\n",
    "        return [v for i in val.items()]\n",
    "    else:\n",
    "        return [t for i in val.items()]"
   ]
  },
  {
   "cell_type": "markdown",
   "metadata": {},
   "source": [
    "# Sometimes highlighting a column is helpful"
   ]
  },
  {
   "cell_type": "code",
   "execution_count": 51,
   "metadata": {
    "tags": [
     "style",
     "apply",
     "pandas"
    ]
   },
   "outputs": [
    {
     "data": {
      "text/html": [
       "<style  type=\"text/css\" >\n",
       "    #T_b361e4b8_8540_11ea_bc80_0242ac110002row0_col0 {\n",
       "            font-weight:  normal;\n",
       "        }    #T_b361e4b8_8540_11ea_bc80_0242ac110002row0_col1 {\n",
       "            font-weight:  normal;\n",
       "        }    #T_b361e4b8_8540_11ea_bc80_0242ac110002row0_col2 {\n",
       "            font-weight:  normal;\n",
       "        }    #T_b361e4b8_8540_11ea_bc80_0242ac110002row0_col3 {\n",
       "            font-weight:  normal;\n",
       "        }    #T_b361e4b8_8540_11ea_bc80_0242ac110002row0_col4 {\n",
       "            background-color:  #ff677d;\n",
       "             font-weight:  bold;\n",
       "        }    #T_b361e4b8_8540_11ea_bc80_0242ac110002row0_col5 {\n",
       "            font-weight:  normal;\n",
       "        }</style><table id=\"T_b361e4b8_8540_11ea_bc80_0242ac110002\" ><thead>    <tr>        <th class=\"blank level0\" ></th>        <th class=\"col_heading level0 col0\" >ID</th>        <th class=\"col_heading level0 col1\" >ORG_CITY</th>        <th class=\"col_heading level0 col2\" >ORG_NAME</th>        <th class=\"col_heading level0 col3\" >ORG_STATE</th>        <th class=\"col_heading level0 col4\" >ORG_ZIPCODE</th>        <th class=\"col_heading level0 col5\" >TOTAL_COST</th>    </tr></thead><tbody>\n",
       "                <tr>\n",
       "                        <th id=\"T_b361e4b8_8540_11ea_bc80_0242ac110002level0_row0\" class=\"row_heading level0 row0\" >4423</th>\n",
       "                        <td id=\"T_b361e4b8_8540_11ea_bc80_0242ac110002row0_col0\" class=\"data row0 col0\" >10055828</td>\n",
       "                        <td id=\"T_b361e4b8_8540_11ea_bc80_0242ac110002row0_col1\" class=\"data row0 col1\" >LAUREL</td>\n",
       "                        <td id=\"T_b361e4b8_8540_11ea_bc80_0242ac110002row0_col2\" class=\"data row0 col2\" >nan</td>\n",
       "                        <td id=\"T_b361e4b8_8540_11ea_bc80_0242ac110002row0_col3\" class=\"data row0 col3\" >MD</td>\n",
       "                        <td id=\"T_b361e4b8_8540_11ea_bc80_0242ac110002row0_col4\" class=\"data row0 col4\" >20,707,359</td>\n",
       "                        <td id=\"T_b361e4b8_8540_11ea_bc80_0242ac110002row0_col5\" class=\"data row0 col5\" >29214.000000</td>\n",
       "            </tr>\n",
       "    </tbody></table>"
      ],
      "text/plain": [
       "<pandas.io.formats.style.Styler at 0x7fe17bba9090>"
      ]
     },
     "execution_count": 51,
     "metadata": {},
     "output_type": "execute_result"
    }
   ],
   "source": [
    "# highlight a column by using style.apply and passing a function\n",
    "not_okay_zips.head().style.apply(highlight_columns, match_strings_list=['ORG_ZIPCODE'])"
   ]
  },
  {
   "cell_type": "markdown",
   "metadata": {},
   "source": [
    "# Oh no, `20,707,359,` does not look like a valid zip code.\n",
    "\n",
    "## Since we just have one baddie, lets correct it using `.loc` -- passing a boolean array and a single column label, `ORG_ZIPCODE`."
   ]
  },
  {
   "cell_type": "code",
   "execution_count": null,
   "metadata": {
    "tags": [
     "dataframe",
     "set"
    ]
   },
   "outputs": [],
   "source": [
    "us.loc[us['ID'] == 10055828, 'ORG_ZIPCODE'] = '20707' # Would have got SettingWithCopyError if we did not use `copy()` above when assigning a slice of `df` to `us`"
   ]
  },
  {
   "cell_type": "markdown",
   "metadata": {},
   "source": [
    "# Whew, better. \n",
    "\n",
    "## Wait, what about length? Zip codes should only be 5 or 9 characters. It's probably fine, but lets just check really quick:"
   ]
  },
  {
   "cell_type": "code",
   "execution_count": null,
   "metadata": {
    "tags": [
     "str",
     "dataframe",
     "pandas",
     "style",
     "apply"
    ]
   },
   "outputs": [],
   "source": [
    "us.loc[~(us['ORG_ZIPCODE'].str.len() == 5) & ~(us['ORG_ZIPCODE'].str.len() == 9)].head().style.apply(highlight_columns, match_strings_list=['ORG_ZIPCODE'])"
   ]
  },
  {
   "cell_type": "markdown",
   "metadata": {},
   "source": [
    "# Yikes, that cannot be right. Fret not, we will smote and vanish these dragons!\n",
    "\n",
    "## Looks like the data came with leading zeros pre-stripped from the `ORG_ZIPCODE` column. That is going to make joining a little harder so lets go ahead and fix these.\n",
    "\n",
    "# Pad the zips with `len() < 5` first"
   ]
  },
  {
   "cell_type": "code",
   "execution_count": null,
   "metadata": {
    "tags": [
     "justify",
     "rjust"
    ]
   },
   "outputs": [],
   "source": [
    "is_len_less_five = us['ORG_ZIPCODE'].str.len() < 5\n",
    "us.loc[is_len_less_five, 'ORG_ZIPCODE'] = [s.rjust(5, '0')[:5] for idx, s in us.loc[is_len_less_five, 'ORG_ZIPCODE'].items()]"
   ]
  },
  {
   "cell_type": "markdown",
   "metadata": {},
   "source": [
    "# Pad the zips with `len() > 5` next."
   ]
  },
  {
   "cell_type": "code",
   "execution_count": null,
   "metadata": {},
   "outputs": [],
   "source": [
    "is_len_gt_five = us['ORG_ZIPCODE'].str.len() > 5\n",
    "us.loc[(is_len_gt_five), 'ORG_ZIPCODE'] = [s.rjust(9, '0')[:5] for idx, s in us.loc[(is_len_gt_five), 'ORG_ZIPCODE'].items()]"
   ]
  },
  {
   "cell_type": "markdown",
   "metadata": {},
   "source": [
    "# Lets see if those dragons are gone?!?"
   ]
  },
  {
   "cell_type": "code",
   "execution_count": null,
   "metadata": {},
   "outputs": [],
   "source": [
    "us.loc[~((us['ORG_ZIPCODE'].str.len() == 5) | (us['ORG_ZIPCODE'].str.len() == 9))].size == 0"
   ]
  },
  {
   "cell_type": "markdown",
   "metadata": {},
   "source": [
    "# Import ZIP to GEO data\n",
    "\n",
    "The zip/geo data was [downloaded from ODS](https://public.opendatasoft.com/explore/dataset/us-zip-code-latitude-and-longitude/export/?dataChart=eyJxdWVyaWVzIjpbeyJjb25maWciOnsiZGF0YXNldCI6InVzLXppcC1jb2RlLWxhdGl0dWRlLWFuZC1sb25naXR1ZGUiLCJvcHRpb25zIjp7fX0sImNoYXJ0cyI6W3siYWxpZ25Nb250aCI6dHJ1ZSwidHlwZSI6ImNvbHVtbiIsImZ1bmMiOiJBVkciLCJ5QXhpcyI6ImxhdGl0dWRlIiwic2NpZW50aWZpY0Rpc3BsYXkiOnRydWUsImNvbG9yIjoiI0ZGNTE1QSJ9XSwieEF4aXMiOiJzdGF0ZSIsIm1heHBvaW50cyI6NTAsInNvcnQiOiIifV0sInRpbWVzY2FsZSI6IiIsImRpc3BsYXlMZWdlbmQiOnRydWUsImFsaWduTW9udGgiOnRydWV9&location=3,43.19717,-48.51562&basemap=jawg.streets) (Open Data Share)"
   ]
  },
  {
   "cell_type": "code",
   "execution_count": null,
   "metadata": {
    "tags": [
     "dtype",
     "read_csv"
    ]
   },
   "outputs": [],
   "source": [
    "zips_to_coords = pd.read_csv('./zip_geo.gzip', sep=';', compression='gzip', dtype={'Zip': 'str'}, encoding=\"ISO-8859-1\")"
   ]
  },
  {
   "cell_type": "markdown",
   "metadata": {},
   "source": [
    "# Lets make sure there are no dups"
   ]
  },
  {
   "cell_type": "code",
   "execution_count": null,
   "metadata": {
    "tags": [
     "duplicated"
    ]
   },
   "outputs": [],
   "source": [
    "zips_to_coords[zips_to_coords.duplicated('Zip')]"
   ]
  },
  {
   "cell_type": "markdown",
   "metadata": {},
   "source": [
    "# Wait, there are some coordinates missing. We need to append to the dataframe"
   ]
  },
  {
   "cell_type": "code",
   "execution_count": null,
   "metadata": {
    "tags": [
     "append",
     "dataframe"
    ]
   },
   "outputs": [],
   "source": [
    "# append an array of series to a dataframe\n",
    "zip_cols = zips_to_coords.columns\n",
    "zips_to_add = [pd.Series(['94158', 37.77244949, -122.39166260], index=zip_cols),\n",
    "               pd.Series(['10065', 40.76429569, -73.96246150], index=zip_cols)]\n",
    "zips_to_coords = zips_to_coords.append(zips_to_add, ignore_index=True)"
   ]
  },
  {
   "cell_type": "code",
   "execution_count": null,
   "metadata": {},
   "outputs": [],
   "source": [
    "zips_to_coords[zips_to_coords.duplicated('Zip', keep='first')]"
   ]
  },
  {
   "cell_type": "markdown",
   "metadata": {},
   "source": [
    "# Oh I was wrong, those did not need to be added. Lets remove:"
   ]
  },
  {
   "cell_type": "code",
   "execution_count": null,
   "metadata": {
    "tags": [
     "drop_duplicates",
     "pandas",
     "dataframe"
    ]
   },
   "outputs": [],
   "source": [
    "# drop duplicates in place\n",
    "zips_to_coords.drop_duplicates(subset=\"Zip\", inplace=True)"
   ]
  },
  {
   "cell_type": "code",
   "execution_count": null,
   "metadata": {},
   "outputs": [],
   "source": [
    "zips_to_coords[zips_to_coords.duplicated('Zip', keep='first')].size == 0"
   ]
  },
  {
   "cell_type": "markdown",
   "metadata": {},
   "source": [
    "# Whew. That was glorious. Now lets merge these dataframes so we can get lat/long on our `us` dataframe"
   ]
  },
  {
   "cell_type": "code",
   "execution_count": null,
   "metadata": {
    "tags": [
     "join",
     "dataframe",
     "pandas"
    ]
   },
   "outputs": [],
   "source": [
    "# join two dataframes on the original dataframes' column. Index must be set appropriately on second df.\n",
    "us = us.join(zips_to_coords.loc[:, ['Zip', 'Latitude', 'Longitude']].set_index('Zip'), on='ORG_ZIPCODE')"
   ]
  },
  {
   "cell_type": "code",
   "execution_count": null,
   "metadata": {
    "tags": [
     "style",
     "apply",
     "pandas"
    ]
   },
   "outputs": [],
   "source": [
    "us.iloc[:5, [0,14,15]].style.apply(highlight_columns, match_strings_list=['Longitude', 'Latitude'])"
   ]
  },
  {
   "cell_type": "markdown",
   "metadata": {},
   "source": [
    "## Lets examine top administering agencies"
   ]
  },
  {
   "cell_type": "code",
   "execution_count": null,
   "metadata": {},
   "outputs": [],
   "source": [
    "us['IC'].value_counts()[:5]"
   ]
  },
  {
   "cell_type": "markdown",
   "metadata": {},
   "source": [
    "## Note that value_counds is a shortcut for `groupby()` and `count()`:\n",
    "\n",
    "Only `value_counts()` automatically sorts the list though."
   ]
  },
  {
   "cell_type": "code",
   "execution_count": null,
   "metadata": {
    "tags": [
     "groupby"
    ]
   },
   "outputs": [],
   "source": [
    "us.groupby('IC').IC.count().sort_values(ascending=False)[:5]"
   ]
  },
  {
   "cell_type": "markdown",
   "metadata": {},
   "source": [
    "### There are a lot of other cool things you can do with `groupby` when it is combined with the `agg` function.\n",
    "\n",
    "# Let's say we want to group cities together and get the sum and max direct cost:"
   ]
  },
  {
   "cell_type": "code",
   "execution_count": null,
   "metadata": {
    "tags": [
     "groupby",
     "agg"
    ]
   },
   "outputs": [],
   "source": [
    "us.groupby('ORG_CITY').DIRECT_COST_AMT.agg([sum, max]).sort_values(by=\"sum\", ascending=False)[:10]"
   ]
  },
  {
   "cell_type": "markdown",
   "metadata": {},
   "source": [
    "## Lets say we are only interested in 3 NIH agencies."
   ]
  },
  {
   "cell_type": "code",
   "execution_count": null,
   "metadata": {},
   "outputs": [],
   "source": [
    "nih_agencies = [{\n",
    "    \"code\": \"AI\",\n",
    "    \"name\": \"NIH National Institute of Allergy and Infectious Diseases (NIAID)\"\n",
    "  }, {\n",
    "    \"code\": \"GM\",\n",
    "    \"name\": \"NIH National Institute of General Medical Sciences (NIGMS)\"\n",
    "  }, {\n",
    "    \"code\": \"CA\",\n",
    "    \"name\": \"NIH National Cancer Institute (NCI)\"\n",
    "  }]"
   ]
  },
  {
   "cell_type": "code",
   "execution_count": null,
   "metadata": {},
   "outputs": [],
   "source": [
    "agency_list = [obj['code'] for obj in nih_agencies]"
   ]
  },
  {
   "cell_type": "markdown",
   "metadata": {},
   "source": [
    "# Create `agc` which contains only grants from AI, GM, CA"
   ]
  },
  {
   "cell_type": "code",
   "execution_count": null,
   "metadata": {},
   "outputs": [],
   "source": [
    "%%time\n",
    "agc = us.loc[us['IC'].isin(agency_list)].copy()"
   ]
  },
  {
   "cell_type": "code",
   "execution_count": null,
   "metadata": {},
   "outputs": [],
   "source": [
    "agc.loc[:, 'TOTAL_COST'].sum()"
   ]
  },
  {
   "cell_type": "markdown",
   "metadata": {},
   "source": [
    "## How many grant awards have no associated cost information?"
   ]
  },
  {
   "cell_type": "code",
   "execution_count": null,
   "metadata": {},
   "outputs": [],
   "source": [
    "agc.loc[pd.isna(agc['DIRECT_COST_AMT']) & pd.isna(agc['TOTAL_COST'])].style.apply(highlight_columns, match_strings_list=['DIRECT_COST_AMT', 'TOTAL_COST'])"
   ]
  },
  {
   "cell_type": "code",
   "execution_count": null,
   "metadata": {
    "tags": [
     "groupby",
     "count",
     "index",
     "astype"
    ]
   },
   "outputs": [],
   "source": [
    "# Get a series and count the values grouped by year when column is datetime64[ns]\n",
    "project_start = agc.loc[:, \"PROJECT_START\"].groupby(agc.loc[:, \"PROJECT_START\"].dt.year).count()\n",
    "ps_series = pd.Series(project_start.values, project_start.index.astype('int64'), name=\"start\")"
   ]
  },
  {
   "cell_type": "code",
   "execution_count": null,
   "metadata": {},
   "outputs": [],
   "source": [
    "project_end = agc.loc[:, \"PROJECT_END\"].groupby(agc.loc[:, \"PROJECT_END\"].dt.year).count()\n",
    "pe_series = pd.Series(project_end.values, project_end.index.astype('int64'), name=\"end\")"
   ]
  },
  {
   "cell_type": "code",
   "execution_count": null,
   "metadata": {
    "tags": [
     "style",
     "use",
     "matplotlib"
    ]
   },
   "outputs": [],
   "source": [
    "matplotlib.style.use('fivethirtyeight')"
   ]
  },
  {
   "cell_type": "code",
   "execution_count": null,
   "metadata": {
    "tags": [
     "dataframe",
     "plot",
     "series"
    ]
   },
   "outputs": [],
   "source": [
    "# Create a dataframe from array of series and plot\n",
    "pd.DataFrame([ps_series, pe_series]).T.plot(kind=\"bar\", width=1.0, figsize=(18, 4), title=\"Project Start and End Count by Year\")"
   ]
  },
  {
   "cell_type": "code",
   "execution_count": null,
   "metadata": {},
   "outputs": [],
   "source": [
    "agc[['TOTAL_COST', 'DIRECT_COST_AMT']].describe()"
   ]
  },
  {
   "cell_type": "code",
   "execution_count": null,
   "metadata": {},
   "outputs": [],
   "source": [
    "largest_awards = agc.loc[:, [\"ID\", \"IC\", \"ORG_CITY\", \"ORG_NAME\", \"PROJECT_TITLE\", \"TOTAL_COST\"]].sort_values(by=['TOTAL_COST'], ascending=False)"
   ]
  },
  {
   "cell_type": "code",
   "execution_count": null,
   "metadata": {},
   "outputs": [],
   "source": [
    "largest_awards.head(10)"
   ]
  },
  {
   "cell_type": "markdown",
   "metadata": {},
   "source": [
    "# What organizations receive the most awards?\n",
    "\n",
    "### Create a series with `value_counts()` that sorts the organizations by award count."
   ]
  },
  {
   "cell_type": "code",
   "execution_count": null,
   "metadata": {},
   "outputs": [],
   "source": [
    "top_organizations = agc['ORG_NAME'].value_counts()"
   ]
  },
  {
   "cell_type": "code",
   "execution_count": null,
   "metadata": {},
   "outputs": [],
   "source": [
    "top_organizations[0:10]"
   ]
  }
 ],
 "metadata": {
  "celltoolbar": "Tags",
  "kernelspec": {
   "display_name": "Python 3",
   "language": "python",
   "name": "python3"
  },
  "language_info": {
   "codemirror_mode": {
    "name": "ipython",
    "version": 3
   },
   "file_extension": ".py",
   "mimetype": "text/x-python",
   "name": "python",
   "nbconvert_exporter": "python",
   "pygments_lexer": "ipython3",
   "version": "3.7.6"
  },
  "nteract": {
   "version": "nteract-on-jupyter@2.1.3"
  }
 },
 "nbformat": 4,
 "nbformat_minor": 4
}
